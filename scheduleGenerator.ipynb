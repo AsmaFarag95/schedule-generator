{
 "cells": [
  {
   "cell_type": "code",
   "execution_count": 6,
   "metadata": {},
   "outputs": [],
   "source": [
    "#This is just for arranging the ideas, it is NOT part of excuting the GUI\n",
    "#its output is teamOutput.xlsx and teamOutput.sqlite\n",
    "\"\"\"\n",
    "Schedule Generating file\n",
    "Created by Gelovani Nodar\n",
    "\"\"\"\n",
    "import openpyxl as xl\n",
    "from functions import yeardays, get_shiftset, Manager\n",
    "import pandas as pd \n",
    "import os\n",
    "\n",
    " \n",
    " "
   ]
  },
  {
   "cell_type": "code",
   "execution_count": 7,
   "metadata": {},
   "outputs": [
    {
     "name": "stdout",
     "output_type": "stream",
     "text": [
      "Current Working Directory: /Users/asmafaraj/Downloads/schedule-generator\n",
      "lst Directory: ['functions.py', '.DS_Store', 'LICENSE', 'employees.xlsx', '__pycache__', 'README.md', 'CONTRIBUTING.md', 'scheduleGenerator.ipynb', 'schedule.py', 'team_file.xlsx', '.git', 'data ', 'sched-gen-gui.py']\n"
     ]
    }
   ],
   "source": [
    "#to mke sure of the path \n",
    "print(\"Current Working Directory:\", os.getcwd())\n",
    "current_path= os.getcwd()\n",
    "print(\"lst Directory:\", os.listdir())\n",
    "os.chdir(current_path)\n",
    " "
   ]
  },
  {
   "cell_type": "code",
   "execution_count": 8,
   "metadata": {},
   "outputs": [],
   "source": [
    "employees = pd.read_excel('employees.xlsx') # read the file that contain some info about employees \n"
   ]
  },
  {
   "cell_type": "markdown",
   "metadata": {},
   "source": [
    "Employee Name:                 Shift Type:\t         Set: email:\n",
    "Ronald J. Clark\t               Morning\t             1\t  RonaldJClark@rhyta.com\n",
    "Cindy L. Schneider\t           Afternoon\t         2\t  CindyLSchneider@rhyta.com\n",
    "Jack S. Morgan\t               Night\t             1\t  JackSMorgan@teleworm.us\n",
    "Donna J. Eccles\t               Morning               2\t  DonnaJEccles@armyspy.com\n",
    "\t\t\t"
   ]
  },
  {
   "cell_type": "code",
   "execution_count": 9,
   "metadata": {},
   "outputs": [
    {
     "name": "stdout",
     "output_type": "stream",
     "text": [
      "4\n"
     ]
    }
   ],
   "source": [
    "managers = []\n",
    "\n",
    "# Store amount of rows in one variable\n",
    "max_row = len(employees)\n",
    "print(max_row)\n",
    "# Transfer information from Managers excel\n",
    "#Columns Names: Index(['Employee Name', 'Shift Type', 'Set', 'email'], dtype='object')\n",
    "\n",
    "for row in range(max_row):\n",
    "    name = employees['Employee Name'].iloc[row]\n",
    "    shift_type = employees['Shift Type'].iloc[row]\n",
    "    mset = employees['Set'].iloc[row]\n",
    "    email = employees['email'].iloc[row]\n",
    "\n",
    "\n",
    "    \n",
    "    # Now you can use these variables (name, shift_type, mset, email) as needed\n",
    "\n",
    "   # Put Retreived info into the Manager class\n",
    "    manager = Manager(name, shift_type, mset, email)\n",
    "\n",
    "    # Append every manager into the managers List\n",
    "    managers.append(manager)"
   ]
  },
  {
   "cell_type": "code",
   "execution_count": 10,
   "metadata": {},
   "outputs": [
    {
     "name": "stdout",
     "output_type": "stream",
     "text": [
      "Ronald J. Clark\n",
      "Shift Type: Morning\n",
      "Set: 1\n",
      "Email: RonaldJClark@rhyta.com\n",
      "\n",
      "\n",
      "Cindy L. Schneider\n",
      "Shift Type: Afternoon\n",
      "Set: 2\n",
      "Email: CindyLSchneider@rhyta.com\n",
      "\n",
      "\n",
      "Jack S. Morgan\n",
      "Shift Type: Night\n",
      "Set: 1\n",
      "Email: JackSMorgan@teleworm.us\n",
      "\n",
      "\n",
      "Donna J. Eccles\n",
      "Shift Type: Morning\n",
      "Set: 2\n",
      "Email: DonnaJEccles@armyspy.com\n",
      "\n",
      "\n"
     ]
    }
   ],
   "source": [
    "#jist print for clarification\n",
    "for manager in managers:\n",
    "    print(manager.name )\n",
    "    print(\"Shift Type:\", manager.shift_type)\n",
    "    print(\"Set:\", manager.mset)\n",
    "    print(\"Email:\", manager.email)\n",
    "    print(\"\\n\")  # Separate each manager's information"
   ]
  },
  {
   "cell_type": "code",
   "execution_count": 11,
   "metadata": {},
   "outputs": [],
   "source": [
    "# Ask user to provide Year and Month\n",
    "\n",
    "while True:\n",
    "    try:\n",
    "        user_year = int(input(\"Enter the year: \"))\n",
    "        break  # Exit the loop if the input is a valid integer\n",
    "    except ValueError:\n",
    "        print(\"Invalid input. Please enter a valid integer for the year.\")\n",
    "\n",
    "# Get user input for the month\n",
    "while True:\n",
    "    try:\n",
    "        user_month = int(input(\"Enter the month: \"))\n",
    "        if 1 <= user_month <= 12:\n",
    "            break  # Exit the loop if the input is a valid integer between 1 and 12\n",
    "        else:\n",
    "            print(\"Invalid input. Month must be between 1 and 12.\")\n",
    "    except ValueError:\n",
    "        print(\"Invalid input. Please enter a valid integer for the month.\")\n",
    "\n",
    "# Now you have valid user input for year and month\n",
    "year = user_year\n",
    "month = user_month\n",
    "\n"
   ]
  },
  {
   "cell_type": "code",
   "execution_count": 12,
   "metadata": {},
   "outputs": [],
   "source": [
    "# Generate set days of the given month of the given year\n",
    "# Assign generated set-days to managers, which have the same set\n",
    " \n",
    "for manager in managers:\n",
    "    for day in yeardays(year):\n",
    "        if day.month == month and get_shiftset(day) == \"Set 1\" and manager.mset == 1:\n",
    "            manager.shifts.append(day)\n",
    "        elif day.month == month and get_shiftset(day) == \"Set 2\" and manager.mset == 2:\n",
    "            manager.shifts.append(day)\n",
    "                # Change Python Date to Excel Date\n",
    "for manager in managers:\n",
    "    for i in range(len(manager.shifts)):\n",
    "        manager.shifts[i] = str(manager.shifts[i]).replace(\"-\", \"/\")\n",
    " "
   ]
  },
  {
   "cell_type": "code",
   "execution_count": 13,
   "metadata": {},
   "outputs": [
    {
     "name": "stdout",
     "output_type": "stream",
     "text": [
      "['2020/12/01', '2020/12/05', '2020/12/06', '2020/12/07', '2020/12/11', '2020/12/12', '2020/12/13', '2020/12/17', '2020/12/18', '2020/12/19', '2020/12/23', '2020/12/24', '2020/12/25', '2020/12/29', '2020/12/30']\n"
     ]
    }
   ],
   "source": [
    "print(manager.shifts )"
   ]
  },
  {
   "cell_type": "code",
   "execution_count": null,
   "metadata": {},
   "outputs": [],
   "source": []
  },
  {
   "cell_type": "code",
   "execution_count": 14,
   "metadata": {},
   "outputs": [
    {
     "name": "stdout",
     "output_type": "stream",
     "text": [
      "Sheet Names team  : Index(['Instructions'], dtype='object')\n"
     ]
    }
   ],
   "source": [
    "\n",
    "team = pd.read_excel('team_file.xlsx') # read the team_file file \n",
    "print(\"Sheet Names team  :\", team.keys()) #\n",
    "\n",
    "#Sheet Names team  : dict_keys(['Instructions', 'Shifts', 'Day Notes', 'Members'])\n",
    "# to access  each sheet, because by default it stores the first only\n",
    "Shifts = pd.read_excel('team_file.xlsx', sheet_name='Shifts')\n",
    "Instructions = pd.read_excel('team_file.xlsx', sheet_name='Instructions')\n",
    "DayNotes = pd.read_excel('team_file.xlsx', sheet_name='Day Notes')\n",
    "Members = pd.read_excel('team_file.xlsx', sheet_name='Members')\n",
    "  \n"
   ]
  },
  {
   "cell_type": "code",
   "execution_count": 15,
   "metadata": {},
   "outputs": [
    {
     "data": {
      "text/plain": [
       "Index(['Member', 'Work Email', 'Group', 'Shift Start Date', 'Shift Start Time',\n",
       "       'Shift End Date', 'Shift End Time', 'Theme Color', 'Custom Label',\n",
       "       'Unpaid Break (minutes)', 'Notes', 'Shared'],\n",
       "      dtype='object')"
      ]
     },
     "execution_count": 15,
     "metadata": {},
     "output_type": "execute_result"
    }
   ],
   "source": [
    "Shifts.columns\n"
   ]
  },
  {
   "cell_type": "code",
   "execution_count": 16,
   "metadata": {},
   "outputs": [
    {
     "data": {
      "text/html": [
       "<div>\n",
       "<style scoped>\n",
       "    .dataframe tbody tr th:only-of-type {\n",
       "        vertical-align: middle;\n",
       "    }\n",
       "\n",
       "    .dataframe tbody tr th {\n",
       "        vertical-align: top;\n",
       "    }\n",
       "\n",
       "    .dataframe thead th {\n",
       "        text-align: right;\n",
       "    }\n",
       "</style>\n",
       "<table border=\"1\" class=\"dataframe\">\n",
       "  <thead>\n",
       "    <tr style=\"text-align: right;\">\n",
       "      <th></th>\n",
       "      <th>Member</th>\n",
       "      <th>Work Email</th>\n",
       "      <th>Group</th>\n",
       "      <th>Shift Start Date</th>\n",
       "      <th>Shift Start Time</th>\n",
       "      <th>Shift End Date</th>\n",
       "      <th>Shift End Time</th>\n",
       "      <th>Theme Color</th>\n",
       "      <th>Custom Label</th>\n",
       "      <th>Unpaid Break (minutes)</th>\n",
       "      <th>Notes</th>\n",
       "      <th>Shared</th>\n",
       "    </tr>\n",
       "  </thead>\n",
       "  <tbody>\n",
       "  </tbody>\n",
       "</table>\n",
       "</div>"
      ],
      "text/plain": [
       "Empty DataFrame\n",
       "Columns: [Member, Work Email, Group, Shift Start Date, Shift Start Time, Shift End Date, Shift End Time, Theme Color, Custom Label, Unpaid Break (minutes), Notes, Shared]\n",
       "Index: []"
      ]
     },
     "execution_count": 16,
     "metadata": {},
     "output_type": "execute_result"
    }
   ],
   "source": [
    "Shifts.head(60)\n"
   ]
  },
  {
   "cell_type": "code",
   "execution_count": null,
   "metadata": {},
   "outputs": [],
   "source": [
    " "
   ]
  },
  {
   "cell_type": "code",
   "execution_count": null,
   "metadata": {},
   "outputs": [],
   "source": []
  },
  {
   "cell_type": "code",
   "execution_count": 17,
   "metadata": {},
   "outputs": [
    {
     "data": {
      "text/plain": [
       "\"# Transferring managers info to the DataFrame\\nfor manager in managers:\\n    amount = len(manager.shifts)\\n    for row in range(0, amount):\\n        # Append a new row to the DataFrame for each shift\\n        Shifts = pd.concat([Shifts, pd.DataFrame({\\n            'Member': [manager.name],\\n            'Work Email': [manager.email],\\n            'Shift Start Date': [manager.shifts[row]],\\n            'Shift End Date': [manager.shifts[row]],\\n            # Add more columns as needed\\n        })], ignore_index=True)\\n\\n# Display the resulting DataFrame\\nprint(Shifts)\""
      ]
     },
     "execution_count": 17,
     "metadata": {},
     "output_type": "execute_result"
    }
   ],
   "source": [
    "'''# Transferring managers info to the DataFrame\n",
    "for manager in managers:\n",
    "    amount = len(manager.shifts)\n",
    "    for row in range(0, amount):\n",
    "        # Append a new row to the DataFrame for each shift\n",
    "        Shifts = pd.concat([Shifts, pd.DataFrame({\n",
    "            'Member': [manager.name],\n",
    "            'Work Email': [manager.email],\n",
    "            'Shift Start Date': [manager.shifts[row]],\n",
    "            'Shift End Date': [manager.shifts[row]],\n",
    "            # Add more columns as needed\n",
    "        })], ignore_index=True)\n",
    "\n",
    "# Display the resulting DataFrame\n",
    "print(Shifts)'''\n"
   ]
  },
  {
   "cell_type": "code",
   "execution_count": 18,
   "metadata": {},
   "outputs": [
    {
     "data": {
      "text/plain": [
       "\"if manager.shift_type.lower() == 'morning':\\n    Shifts['Shift Start Time' + str(row)] = '07:00'\\n    Shifts['Shift End Time' + str(row)] = '15:00'\\n    Shifts['H' + str(row)] = '2. Blue'\\nelif manager.shift_type.lower() == 'afternoon':\\n    Shifts['Shift Start Time' + str(row)] = '15:00'\\n    Shifts['Shift End Time' + str(row)] = '23:00'\\n    Shifts['Theme Color' + str(row)] = '3. Green'\\nelif manager.shift_type.lower() == 'night':\\n    Shifts['Shift Start Time' + str(row)] = '00:00'\\n    Shifts['Shift End Time' + str(row)] = '07:00'\\n    Shifts['Theme Color' + str(row)] = '5. Pink\""
      ]
     },
     "execution_count": 18,
     "metadata": {},
     "output_type": "execute_result"
    }
   ],
   "source": [
    "'''if manager.shift_type.lower() == 'morning':\n",
    "    Shifts['Shift Start Time' + str(row)] = '07:00'\n",
    "    Shifts['Shift End Time' + str(row)] = '15:00'\n",
    "    Shifts['H' + str(row)] = '2. Blue'\n",
    "elif manager.shift_type.lower() == 'afternoon':\n",
    "    Shifts['Shift Start Time' + str(row)] = '15:00'\n",
    "    Shifts['Shift End Time' + str(row)] = '23:00'\n",
    "    Shifts['Theme Color' + str(row)] = '3. Green'\n",
    "elif manager.shift_type.lower() == 'night':\n",
    "    Shifts['Shift Start Time' + str(row)] = '00:00'\n",
    "    Shifts['Shift End Time' + str(row)] = '07:00'\n",
    "    Shifts['Theme Color' + str(row)] = '5. Pink'''\n",
    "    \n",
    "    \n",
    " "
   ]
  },
  {
   "cell_type": "code",
   "execution_count": null,
   "metadata": {},
   "outputs": [],
   "source": []
  },
  {
   "cell_type": "code",
   "execution_count": 19,
   "metadata": {},
   "outputs": [],
   "source": [
    "\n",
    "for manager in managers:\n",
    "    amount = len(manager.shifts)\n",
    "\n",
    "    for row in range(0, amount):\n",
    "\n",
    "        # Append a new row to the DataFrame for each shift\n",
    "        Shifts = Shifts._append({ # append method in panads is   _append , search for better solution!! \n",
    "            'Member': manager.name,\n",
    "            'Work Email': manager.email,\n",
    "            'Shift Start Date': manager.shifts[row],\n",
    "            'Shift End Date': manager.shifts[row],\n",
    "            'Shift Start Time' :  '07:00',\n",
    "            'Shift End Time' : '15:00',\n",
    "            # Add more columns as needed\n",
    "            'Shift Start Time': '07:00' if manager.shift_type.lower() == 'morning' else ('15:00' if manager.shift_type.lower() == 'afternoon' else '00:00'),\n",
    "            'Shift End Time': '15:00' if manager.shift_type.lower() == 'morning' else ('23:00' if manager.shift_type.lower() == 'afternoon' else '07:00'),\n",
    "            'Theme Color': '2. Blue' if manager.shift_type.lower() == 'morning' else ('3. Green' if manager.shift_type.lower() == 'afternoon' else '5. Pink'),\n",
    " \n",
    "        }, ignore_index=True)"
   ]
  },
  {
   "cell_type": "code",
   "execution_count": 20,
   "metadata": {},
   "outputs": [],
   "source": [
    "Shifts.to_excel('teamOutput.xlsx', index=True) #save the results here\n"
   ]
  },
  {
   "cell_type": "code",
   "execution_count": 21,
   "metadata": {},
   "outputs": [
    {
     "data": {
      "text/plain": [
       "0"
      ]
     },
     "execution_count": 21,
     "metadata": {},
     "output_type": "execute_result"
    }
   ],
   "source": [
    "#Sheet Names team  : dict_keys(['Instructions', 'Shifts', 'Day Notes', 'Members'])\n",
    " #create sqlite\n",
    "team.to_sql(\"Instructions\", 'sqlite:///teamOutput.sqlite', if_exists='replace', index=False)\n",
    "Shifts.to_sql(\"Shifts\", 'sqlite:///teamOutput.sqlite', if_exists='replace', index=False)\n",
    "DayNotes.to_sql(\"Day Notes\", 'sqlite:///teamOutput.sqlite', if_exists='replace', index=False)\n",
    "Members.to_sql(\"Members\", 'sqlite:///teamOutput.sqlite', if_exists='replace', index=False)\n"
   ]
  }
 ],
 "metadata": {
  "kernelspec": {
   "display_name": "Python 3",
   "language": "python",
   "name": "python3"
  },
  "language_info": {
   "codemirror_mode": {
    "name": "ipython",
    "version": 3
   },
   "file_extension": ".py",
   "mimetype": "text/x-python",
   "name": "python",
   "nbconvert_exporter": "python",
   "pygments_lexer": "ipython3",
   "version": "3.11.4"
  }
 },
 "nbformat": 4,
 "nbformat_minor": 2
}
